{
 "cells": [
  {
   "cell_type": "code",
   "execution_count": 2,
   "metadata": {},
   "outputs": [
    {
     "name": "stdout",
     "output_type": "stream",
     "text": [
      "2002,2009,2016,2023,2037,2044,2051,2058,2072,2079,2086,2093,2107,2114,2121,2128,2142,2149,2156,2163,2177,2184,2191,2198,2212,2219,2226,2233,2247,2254,2261,2268,2282,2289,2296,2303,2317,2324,2331,2338,2352,2359,2366,2373,2387,2394,2401,2408,2422,2429,2436,2443,2457,2464,2471,2478,2492,2499,2506,2513,2527,2534,2541,2548,2562,2569,2576,2583,2597,2604,2611,2618,2632,2639,2646,2653,2667,2674,2681,2688,2702,2709,2716,2723,2737,2744,2751,2758,2772,2779,2786,2793,2807,2814,2821,2828,2842,2849,2856,2863,2877,2884,2891,2898,2912,2919,2926,2933,2947,2954,2961,2968,2982,2989,2996,3003,3017,3024,3031,3038,3052,3059,3066,3073,3087,3094,3101,3108,3122,3129,3136,3143,3157,3164,3171,3178,3192,3199\n"
     ]
    }
   ],
   "source": [
    "#question2\n",
    "\n",
    "n=[]\n",
    "for x in range(2000,3200):\n",
    "    if(x%7==0) & (x%5!=0):\n",
    "        n.append(str(x))\n",
    "print(','.join(n))"
   ]
  },
  {
   "cell_type": "markdown",
   "metadata": {},
   "source": []
  },
  {
   "cell_type": "code",
   "execution_count": 3,
   "metadata": {},
   "outputs": [
    {
     "name": "stdout",
     "output_type": "stream",
     "text": [
      "Enter your first name: Dhiraj\n",
      "Enter your last name: Singh\n",
      "Singh Dhiraj\n"
     ]
    }
   ],
   "source": [
    "#question3\n",
    "\n",
    "fname= input(\"Enter your first name: \")\n",
    "lname= input(\"Enter your last name: \")\n",
    "print(lname + \" \" + fname)"
   ]
  },
  {
   "cell_type": "code",
   "execution_count": 13,
   "metadata": {},
   "outputs": [
    {
     "name": "stdout",
     "output_type": "stream",
     "text": [
      "Enter the diameter of Sphere:12\n",
      "905\n"
     ]
    }
   ],
   "source": [
    "#question4\n",
    "diameter= int(input('Enter the diameter of Sphere:'))\n",
    "radius= int(diameter/2)\n",
    "volume= int(4/3*22/7*radius**3)\n",
    "print(volume)"
   ]
  },
  {
   "cell_type": "code",
   "execution_count": 14,
   "metadata": {},
   "outputs": [
    {
     "name": "stdout",
     "output_type": "stream",
     "text": [
      "Enter some comma separated numbers : 21,52,85,75,2,32,98\n",
      "List : ['21', '52', '85', '75', '2', '32', '98']\n"
     ]
    }
   ],
   "source": [
    "#TASK2\n",
    "#QUESTION1\n",
    "\n",
    "values= input(\"Enter some comma separated numbers : \")\n",
    "list= values.split(\",\")\n",
    "print(\"List :\",list)\n"
   ]
  },
  {
   "cell_type": "code",
   "execution_count": 16,
   "metadata": {},
   "outputs": [
    {
     "name": "stdout",
     "output_type": "stream",
     "text": [
      "\n",
      "* \n",
      "* * \n",
      "* * * \n",
      "* * * * \n",
      "* * * * * \n",
      "* * * * \n",
      "* * * \n",
      "* * \n",
      "* \n"
     ]
    }
   ],
   "source": [
    "#Question2\n",
    "\n",
    "n=5;\n",
    "for i in range(n):\n",
    "    for j in range(i):\n",
    "        print ('* ', end=\"\")\n",
    "    print('')\n",
    "\n",
    "for i in range(n,0,-1):\n",
    "    for j in range(i):\n",
    "        print('* ', end=\"\")\n",
    "    print('')\n"
   ]
  },
  {
   "cell_type": "code",
   "execution_count": 17,
   "metadata": {},
   "outputs": [
    {
     "name": "stdout",
     "output_type": "stream",
     "text": [
      "Enter word to be reversed : Astronomy\n",
      "Reverse word : ymonortsA\n"
     ]
    }
   ],
   "source": [
    "#question3\n",
    "input_word= input(\"Enter word to be reversed : \").strip()\n",
    "print(\"Reverse word : \" + input_word[::-1])"
   ]
  },
  {
   "cell_type": "code",
   "execution_count": 18,
   "metadata": {},
   "outputs": [
    {
     "name": "stdout",
     "output_type": "stream",
     "text": [
      "input_sentence : WE, THE PEOPLE OF INDIA, having solemnly resolved to constitute India into a SOVEREIGN, SOCIALIST, SECULAR, DEMOCRATIC REPUBLIC and to secure to all its citizens\n",
      "\n",
      "\n",
      "\n",
      "Formatted sentence : WE, THE PEOPLE OF INDIA,\n",
      "having solemnly resolved to constitute India into a SOVEREIGN, !\n",
      "SOCIALIST, SECULAR, DEMOCRATIC REPUBLIC \n",
      "and to secure to all its citizens:\n"
     ]
    }
   ],
   "source": [
    "input_sentence = \"WE, THE PEOPLE OF INDIA, having solemnly resolved to constitute India into a SOVEREIGN, SOCIALIST, SECULAR, DEMOCRATIC REPUBLIC and to secure to all its citizens\"\n",
    "print (\"input_sentence : \" + input_sentence)\n",
    "\n",
    "print (\"\\n\\n\")\n",
    "\n",
    "formatted_sentence = input_sentence.replace(\"INDIA, \", \"INDIA,\\n\").replace(\"SOVEREIGN, \", \"SOVEREIGN, !\\n\").replace(\"REPUBLIC \", \"REPUBLIC \\n\") + (\":\")\n",
    "print (\"Formatted sentence : \" + formatted_sentence)\n"
   ]
  },
  {
   "cell_type": "code",
   "execution_count": null,
   "metadata": {},
   "outputs": [],
   "source": []
  }
 ],
 "metadata": {
  "kernelspec": {
   "display_name": "Python 3",
   "language": "python",
   "name": "python3"
  },
  "language_info": {
   "codemirror_mode": {
    "name": "ipython",
    "version": 3
   },
   "file_extension": ".py",
   "mimetype": "text/x-python",
   "name": "python",
   "nbconvert_exporter": "python",
   "pygments_lexer": "ipython3",
   "version": "3.7.4"
  }
 },
 "nbformat": 4,
 "nbformat_minor": 2
}
